{
 "cells": [
  {
   "cell_type": "code",
   "execution_count": 3,
   "metadata": {},
   "outputs": [
    {
     "name": "stdout",
     "output_type": "stream",
     "text": [
      "3\n",
      "1\n",
      "[1]\n",
      "1\n",
      "2\n",
      "[1, 2]\n",
      "5\n",
      "4\n",
      "[1, 2, 3, 4]\n",
      "119\n"
     ]
    }
   ],
   "source": [
    "# cook your dish here\n",
    "n = int(input())\n",
    "for i in range(n):\n",
    "    x = input()\n",
    "    x = int(x)\n",
    "    l = [j for j in range(1,x+1)]\n",
    "    print(l)\n",
    "    while len(l) != 1:\n",
    "        f = l[0]\n",
    "        la = l[-1]\n",
    "        l = l[1:-1]\n",
    "        l.append(f + la + f*la)\n",
    "        \n",
    "    print(l[0]%1000000007)"
   ]
  },
  {
   "cell_type": "code",
   "execution_count": 1,
   "metadata": {},
   "outputs": [
    {
     "name": "stdout",
     "output_type": "stream",
     "text": [
      "3\n",
      "2\n",
      "5\n",
      "5\n",
      "719\n",
      "4\n",
      "119\n"
     ]
    }
   ],
   "source": [
    "n = int(input())\n",
    "l = [1]\n",
    "for i in range(1,1000001):\n",
    "    l.append((l[i-1] * i)% 1000000007)\n",
    "for i in range(n):\n",
    "    x = input()\n",
    "    x = int(x)\n",
    "    print(l[x+1]-1)"
   ]
  },
  {
   "cell_type": "code",
   "execution_count": null,
   "metadata": {},
   "outputs": [
    {
     "name": "stdout",
     "output_type": "stream",
     "text": [
      "4\n",
      "cabbac\n",
      "YES\n"
     ]
    }
   ],
   "source": [
    "t = int(input())\n",
    "for i in range(t):\n",
    "    s = input()\n",
    "    l = [s.count(i)%2 for i in s]\n",
    "    if 1 in l:\n",
    "        print('NO')\n",
    "    else:\n",
    "        print('YES')"
   ]
  },
  {
   "cell_type": "code",
   "execution_count": 5,
   "metadata": {
    "tags": []
   },
   "outputs": [
    {
     "output_type": "stream",
     "name": "stdout",
     "text": "7\n"
    }
   ],
   "source": [
    "n = int(input())\n",
    "st = {}\n",
    "for i in range(n):\n",
    "    l = input().split(\" \")\n",
    "    l = [int(j) for j in l]\n",
    "    for j in range(l[0],l[1]):\n",
    "        st[j] = 1\n",
    "print(len(st))"
   ]
  },
  {
   "cell_type": "code",
   "execution_count": null,
   "metadata": {},
   "outputs": [],
   "source": []
  }
 ],
 "metadata": {
  "kernelspec": {
   "display_name": "Python 3.8.3",
   "language": "python",
   "name": "python3"
  },
  "language_info": {
   "codemirror_mode": {
    "name": "ipython",
    "version": 3
   },
   "file_extension": ".py",
   "mimetype": "text/x-python",
   "name": "python",
   "nbconvert_exporter": "python",
   "pygments_lexer": "ipython3",
   "version": "3.8.3-final"
  }
 },
 "nbformat": 4,
 "nbformat_minor": 4
}